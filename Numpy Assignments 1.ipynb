{
 "cells": [
  {
   "cell_type": "code",
   "execution_count": 1,
   "id": "28f4766d",
   "metadata": {},
   "outputs": [],
   "source": [
    "import numpy as np"
   ]
  },
  {
   "cell_type": "markdown",
   "id": "261510c3",
   "metadata": {},
   "source": [
    "# 1.Extract even numbers  from 1D array\n",
    "\n",
    "[0, 1, 2, 3, 4, 5, 6, 7, 8, 9]"
   ]
  },
  {
   "cell_type": "code",
   "execution_count": 2,
   "id": "aed769a5",
   "metadata": {},
   "outputs": [
    {
     "data": {
      "text/plain": [
       "array([0, 2, 4, 6, 8])"
      ]
     },
     "execution_count": 2,
     "metadata": {},
     "output_type": "execute_result"
    }
   ],
   "source": [
    "arr = np.array([0, 1, 2, 3, 4, 5, 6, 7, 8, 9])\n",
    "arr[arr % 2 == 0]"
   ]
  },
  {
   "cell_type": "markdown",
   "id": "b7bc8ff8",
   "metadata": {},
   "source": [
    "# 2.How to create a 2D array containing random floats between 5 and 10?"
   ]
  },
  {
   "cell_type": "code",
   "execution_count": 3,
   "id": "f6b8e75f",
   "metadata": {},
   "outputs": [
    {
     "name": "stdout",
     "output_type": "stream",
     "text": [
      "[[8.77438241 8.74134211 7.01996278]\n",
      " [7.13760057 9.14756222 9.27380467]\n",
      " [6.93632607 5.9120629  9.0456884 ]\n",
      " [6.51136438 6.19803287 6.83504686]\n",
      " [8.33714249 5.23340318 8.49569324]]\n"
     ]
    }
   ],
   "source": [
    "rand_arr = np.random.randint(low=5, high=10, size=(5,3)) + np.random.random((5,3))\n",
    "print(rand_arr)"
   ]
  },
  {
   "cell_type": "code",
   "execution_count": 4,
   "id": "a1459eec",
   "metadata": {},
   "outputs": [
    {
     "name": "stdout",
     "output_type": "stream",
     "text": [
      "2D Array: \n",
      " [[ 5.          6.66666667]\n",
      " [ 8.33333333 10.        ]]\n"
     ]
    }
   ],
   "source": [
    "a = np.linspace(5,10,4).reshape(2,2)\n",
    "print('2D Array:','\\n',a)\n"
   ]
  },
  {
   "cell_type": "markdown",
   "id": "059bc6b8",
   "metadata": {},
   "source": [
    "# 3.How to print only 3 decimal places in python numpy array"
   ]
  },
  {
   "cell_type": "code",
   "execution_count": 5,
   "id": "25bc5eeb",
   "metadata": {},
   "outputs": [
    {
     "data": {
      "text/plain": [
       "array([[0.332, 0.13 , 0.093],\n",
       "       [0.561, 0.651, 0.251],\n",
       "       [0.265, 0.776, 0.709],\n",
       "       [0.299, 0.908, 0.245],\n",
       "       [0.26 , 0.66 , 0.517]])"
      ]
     },
     "execution_count": 5,
     "metadata": {},
     "output_type": "execute_result"
    }
   ],
   "source": [
    "rand_arr =np.round(np.random.random((5,3)),decimals=3)\n",
    "rand_arr"
   ]
  },
  {
   "cell_type": "markdown",
   "id": "763ba54b",
   "metadata": {},
   "source": [
    "# 4.Write a NumPy program to create a vector with values ranging from 15 to 55 and print all values except the first and last."
   ]
  },
  {
   "cell_type": "code",
   "execution_count": 6,
   "id": "0140fe92",
   "metadata": {},
   "outputs": [
    {
     "name": "stdout",
     "output_type": "stream",
     "text": [
      "Original vector:\n",
      "[15 16 17 18 19 20 21 22 23 24 25 26 27 28 29 30 31 32 33 34 35 36 37 38\n",
      " 39 40 41 42 43 44 45 46 47 48 49 50 51 52 53 54 55]\n",
      "All values except the first and last of the said vector:\n",
      "[16 17 18 19 20 21 22 23 24 25 26 27 28 29 30 31 32 33 34 35 36 37 38 39\n",
      " 40 41 42 43 44 45 46 47 48 49 50 51 52 53 54]\n"
     ]
    }
   ],
   "source": [
    "v = np.arange(15,56)\n",
    "print(\"Original vector:\")\n",
    "print(v)\n",
    "print(\"All values except the first and last of the said vector:\")\n",
    "print(v[1:-1])"
   ]
  },
  {
   "cell_type": "markdown",
   "id": "44465f12",
   "metadata": {},
   "source": [
    "# 5.Write a NumPy program to create a 5x5 zero matrix with elements on the main diagonal equal to 1, 2, 3, 4, 5."
   ]
  },
  {
   "cell_type": "code",
   "execution_count": 7,
   "id": "93abd2d4",
   "metadata": {},
   "outputs": [
    {
     "name": "stdout",
     "output_type": "stream",
     "text": [
      "[[1 0 0 0 0]\n",
      " [0 2 0 0 0]\n",
      " [0 0 3 0 0]\n",
      " [0 0 0 4 0]\n",
      " [0 0 0 0 5]]\n"
     ]
    }
   ],
   "source": [
    "x = np.diag([1, 2, 3, 4, 5])\n",
    "print(x)"
   ]
  },
  {
   "cell_type": "code",
   "execution_count": 8,
   "id": "939272ff",
   "metadata": {},
   "outputs": [
    {
     "name": "stdout",
     "output_type": "stream",
     "text": [
      "[[1. 0. 0. 0. 0.]\n",
      " [0. 2. 0. 0. 0.]\n",
      " [0. 0. 3. 0. 0.]\n",
      " [0. 0. 0. 4. 0.]\n",
      " [0. 0. 0. 0. 5.]]\n"
     ]
    }
   ],
   "source": [
    "a = np.zeros((5,5))\n",
    "a[0,0]=1\n",
    "a[1,1]=2\n",
    "a[2,2]=3\n",
    "a[3,3]=4\n",
    "a[4,4]=5\n",
    "print(a)"
   ]
  },
  {
   "cell_type": "markdown",
   "id": "16a22dcf",
   "metadata": {},
   "source": [
    "# 6.Write a NumPy program to create a new array of given shape (5,6) and type, filled with zeros.\n",
    "\n",
    "Change the said array in the following format:\n",
    "\n",
    "Given array:\n",
    "\n",
    "[[0 0 0 0 0 0]\n",
    "\n",
    "[0 0 0 0 0 0]\n",
    "\n",
    "[0 0 0 0 0 0]\n",
    "\n",
    "[0 0 0 0 0 0]\n",
    "\n",
    "[0 0 0 0 0 0]]\n",
    "\n",
    "New array:\n",
    "\n",
    "[[3 0 3 0 3 0]\n",
    "\n",
    "[7 0 7 0 7 0]\n",
    "\n",
    "[3 0 3 0 3 0]\n",
    "\n",
    "[7 0 7 0 7 0]\n",
    "\n",
    "[3 0 3 0 3 0]]\n"
   ]
  },
  {
   "cell_type": "code",
   "execution_count": 10,
   "id": "ef6613ca",
   "metadata": {},
   "outputs": [
    {
     "name": "stdout",
     "output_type": "stream",
     "text": [
      "Original array:\n",
      "[[0 0 0 0 0 0]\n",
      " [0 0 0 0 0 0]\n",
      " [0 0 0 0 0 0]\n",
      " [0 0 0 0 0 0]\n",
      " [0 0 0 0 0 0]]\n",
      "\n",
      "New array:\n",
      "[[3 0 3 0 3 0]\n",
      " [7 0 7 0 7 0]\n",
      " [3 0 3 0 3 0]\n",
      " [7 0 7 0 7 0]\n",
      " [3 0 3 0 3 0]]\n"
     ]
    }
   ],
   "source": [
    "nums = np.zeros(shape=(5, 6), dtype='int')\n",
    "print(\"Original array:\")\n",
    "print(nums)\n",
    "nums[::2, ::2] = 3\n",
    "nums[1::2, ::2] = 7\n",
    "print(\"\\nNew array:\")\n",
    "print(nums)"
   ]
  },
  {
   "cell_type": "markdown",
   "id": "033d5237",
   "metadata": {},
   "source": [
    "# 7.Write a NumPy program to create a 4x4 array, now create a new array from the said array swapping first and last, second and third columns."
   ]
  },
  {
   "cell_type": "code",
   "execution_count": 11,
   "id": "2c0294b0",
   "metadata": {},
   "outputs": [
    {
     "name": "stdout",
     "output_type": "stream",
     "text": [
      "Original array:\n",
      "[[ 0  1  2  3]\n",
      " [ 4  5  6  7]\n",
      " [ 8  9 10 11]\n",
      " [12 13 14 15]]\n",
      "\n",
      "New array after swapping first and last columns of the said array:\n",
      "[[ 3  2  1  0]\n",
      " [ 7  6  5  4]\n",
      " [11 10  9  8]\n",
      " [15 14 13 12]]\n"
     ]
    }
   ],
   "source": [
    "nums = np.arange(16, dtype='int').reshape(-1, 4)\n",
    "print(\"Original array:\")\n",
    "print(nums)\n",
    "print(\"\\nNew array after swapping first and last columns of the said array:\")\n",
    "new_nums = nums[:, ::-1]\n",
    "print(new_nums)"
   ]
  },
  {
   "cell_type": "markdown",
   "id": "dba6bd29",
   "metadata": {},
   "source": [
    "# 8.Write a NumPy program to swap rows and columns of a given array in reverse order."
   ]
  },
  {
   "cell_type": "code",
   "execution_count": 12,
   "id": "f9dd8399",
   "metadata": {},
   "outputs": [
    {
     "name": "stdout",
     "output_type": "stream",
     "text": [
      "Original array:\n",
      "[[[ 1  2  3  4]\n",
      "  [ 0  1  3  4]\n",
      "  [90 91 93 94]\n",
      "  [ 5  0  3  2]]]\n",
      "\n",
      "Swap rows and columns of the said array in reverse order:\n",
      "[[[ 5  0  3  2]\n",
      "  [90 91 93 94]\n",
      "  [ 0  1  3  4]\n",
      "  [ 1  2  3  4]]]\n",
      "None\n"
     ]
    }
   ],
   "source": [
    "nums = np.array([[[1, 2, 3, 4],\n",
    "               [0, 1, 3, 4],\n",
    "               [90, 91, 93, 94],\n",
    "               [5, 0, 3, 2]]])\n",
    "print(\"Original array:\")\n",
    "print(nums)\n",
    "print(\"\\nSwap rows and columns of the said array in reverse order:\")\n",
    "new_nums = print(nums[::-1, ::-1])\n",
    "print(new_nums)"
   ]
  },
  {
   "cell_type": "markdown",
   "id": "1b1c01f0",
   "metadata": {},
   "source": [
    "# 9.Write a NumPy program to create a three-dimension array with shape (3,5,4) and set to a variable."
   ]
  },
  {
   "cell_type": "code",
   "execution_count": 13,
   "id": "02cb9c10",
   "metadata": {},
   "outputs": [
    {
     "name": "stdout",
     "output_type": "stream",
     "text": [
      "Array:\n",
      "[[[1 5 2 1]\n",
      "  [4 3 5 6]\n",
      "  [6 3 0 6]\n",
      "  [7 3 5 0]\n",
      "  [2 3 3 5]]\n",
      "\n",
      " [[2 2 3 1]\n",
      "  [4 0 0 5]\n",
      "  [6 3 2 1]\n",
      "  [5 1 0 0]\n",
      "  [0 1 9 1]]\n",
      "\n",
      " [[3 1 4 2]\n",
      "  [4 1 6 0]\n",
      "  [1 2 0 6]\n",
      "  [8 3 4 0]\n",
      "  [2 0 2 8]]]\n"
     ]
    }
   ],
   "source": [
    "nums = np.array([[[1, 5, 2, 1],\n",
    "               [4, 3, 5, 6],\n",
    "               [6, 3, 0, 6],\n",
    "               [7, 3, 5, 0],\n",
    "               [2, 3, 3, 5]],\n",
    "              \n",
    "              [[2, 2, 3, 1],\n",
    "               [4, 0, 0, 5],\n",
    "               [6, 3, 2, 1],\n",
    "               [5, 1, 0, 0],               \n",
    "               [0, 1, 9, 1]],\n",
    "              \n",
    "              [[3, 1, 4, 2],\n",
    "               [4, 1, 6, 0],\n",
    "               [1, 2, 0, 6],\n",
    "               [8, 3, 4, 0],               \n",
    "               [2, 0, 2, 8]]]) \n",
    "print(\"Array:\")\n",
    "print(nums)"
   ]
  },
  {
   "cell_type": "markdown",
   "id": "a3237008",
   "metadata": {},
   "source": [
    "# 10.Write a NumPy program to create a 3x3x3 array filled with arbitrary values."
   ]
  },
  {
   "cell_type": "code",
   "execution_count": 14,
   "id": "9d53d0cb",
   "metadata": {},
   "outputs": [
    {
     "name": "stdout",
     "output_type": "stream",
     "text": [
      "[[[0.1747823  0.63064854 0.79100233]\n",
      "  [0.18014902 0.30507615 0.86097434]\n",
      "  [0.88223348 0.10758573 0.84911411]]\n",
      "\n",
      " [[0.90503762 0.00525736 0.20527095]\n",
      "  [0.28142381 0.84489105 0.51567524]\n",
      "  [0.42236042 0.22062434 0.05803134]]\n",
      "\n",
      " [[0.85464241 0.3532846  0.97069698]\n",
      "  [0.05200606 0.21507778 0.82568329]\n",
      "  [0.6516548  0.22094512 0.54031747]]]\n"
     ]
    }
   ],
   "source": [
    "x = np.random.random((3, 3, 3))\n",
    "print(x)"
   ]
  },
  {
   "cell_type": "code",
   "execution_count": null,
   "id": "c2bd1acb",
   "metadata": {},
   "outputs": [],
   "source": []
  }
 ],
 "metadata": {
  "kernelspec": {
   "display_name": "Python 3 (ipykernel)",
   "language": "python",
   "name": "python3"
  },
  "language_info": {
   "codemirror_mode": {
    "name": "ipython",
    "version": 3
   },
   "file_extension": ".py",
   "mimetype": "text/x-python",
   "name": "python",
   "nbconvert_exporter": "python",
   "pygments_lexer": "ipython3",
   "version": "3.8.12"
  }
 },
 "nbformat": 4,
 "nbformat_minor": 5
}
